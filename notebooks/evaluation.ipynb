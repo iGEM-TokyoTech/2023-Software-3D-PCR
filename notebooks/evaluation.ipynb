{
 "cells": [
  {
   "cell_type": "markdown",
   "id": "c30e152d-adab-4f90-bc36-b97fdb98780a",
   "metadata": {},
   "source": [
    "# 必要なライブラリをimprot"
   ]
  },
  {
   "cell_type": "code",
   "execution_count": 1,
   "id": "e68ed253-7240-4df0-b6df-ad4d67800655",
   "metadata": {},
   "outputs": [],
   "source": [
    "import itertools\n",
    "\n",
    "import numpy as np\n",
    "import matplotlib.pyplot as plt\n",
    "import matplotlib.patches as patches"
   ]
  },
  {
   "cell_type": "markdown",
   "id": "f0c445d1-3bb2-4599-bd40-ba3ea042dc84",
   "metadata": {},
   "source": [
    "# 3D-PCRの変数を定義"
   ]
  },
  {
   "cell_type": "code",
   "execution_count": 63,
   "id": "48b13c95-1079-4ba5-951a-8929b366d784",
   "metadata": {},
   "outputs": [],
   "source": [
    "sample_size = (12, 8, 10)\n",
    "lambda_param = 500"
   ]
  },
  {
   "cell_type": "markdown",
   "id": "6d508454-6a23-474a-b847-b4d3dd35b473",
   "metadata": {},
   "source": [
    "# 評価に必要な定数の定義"
   ]
  },
  {
   "cell_type": "code",
   "execution_count": 64,
   "id": "8dc680cd-4fb9-4217-840b-550688b1dbad",
   "metadata": {},
   "outputs": [],
   "source": [
    "shot_num = 1000\n",
    "res = dict(naive=[], arranged=[], equal=[])\n",
    "positive_num = []"
   ]
  },
  {
   "cell_type": "code",
   "execution_count": 65,
   "id": "596461d6-e455-4e81-9395-8773262f57b3",
   "metadata": {},
   "outputs": [],
   "source": [
    "for _ in range(shot_num):\n",
    "    arr = np.random.exponential(scale=1/lambda_param, size=(12, 8, 10))\n",
    "    \n",
    "    rand = np.random.rand(12, 8, 10)\n",
    "    samples = rand < arr\n",
    "    \n",
    "    # positiveの(x, y, z)を取得\n",
    "    indices = np.nonzero(samples)\n",
    "    positives = [(indices[0][i], indices[1][i], indices[2][i]) for i in range(len(indices[0]))]\n",
    "    \n",
    "    # positiveになる層のindexを取得\n",
    "    c_x = np.where(np.any(samples, axis = (1, 2)))[0].tolist()\n",
    "    c_y = np.where(np.any(samples, axis = (0, 2)))[0].tolist()\n",
    "    c_z = np.where(np.any(samples, axis = (0, 1)))[0].tolist()\n",
    "    retest = len(c_x) * len(c_y) * len(c_z)\n",
    "    \n",
    "    # better_Arrangement\n",
    "    sorted_arr = np.flip(np.sort(np.sort(arr.reshape(1, 960)).reshape(10,8,12).T, axis = 0).reshape(12, 8, 10))\n",
    "    arranged_rand = np.zeros(sample_size)\n",
    "    \n",
    "    for i in range(sample_size[0]):\n",
    "        for j in range(sample_size[1]):\n",
    "            for k in range(sample_size[2]):\n",
    "                loc = np.where(sorted_arr == arr[i][j][k])\n",
    "                x, y, z = loc[0][0], loc[1][0], loc[2][0]\n",
    "                arranged_rand[x][y][z] = rand[i][j][k]\n",
    "    \n",
    "    arranged_samples = arranged_rand < sorted_arr\n",
    "    indices = np.nonzero(arranged_samples)\n",
    "    arranged_positives = [(indices[0][i], indices[1][i], indices[2][i]) for i in range(len(indices[0]))]\n",
    "    \n",
    "    c_x = np.where(np.any(arranged_samples, axis = (1, 2)))[0].tolist()\n",
    "    c_y = np.where(np.any(arranged_samples, axis = (0, 2)))[0].tolist()\n",
    "    c_z = np.where(np.any(arranged_samples, axis = (0, 1)))[0].tolist()\n",
    "    arranged_retest = len(c_x) * len(c_y) * len(c_z)\n",
    "\n",
    "    if retest > arranged_retest:\n",
    "        # d['arranged'] += 1\n",
    "        res['arranged'].append(arranged_retest)\n",
    "    elif retest < arranged_retest:\n",
    "        res['naive'].append(retest)\n",
    "    else:\n",
    "        res['equal'].append(arranged_retest)\n",
    "\n",
    "    positive_num.append(len(positives))\n",
    "\n",
    "res_value = [len(res['naive']), len(res['arranged']), len(res['equal'])]"
   ]
  },
  {
   "cell_type": "code",
   "execution_count": 66,
   "id": "8bab75a5-9304-4333-a4fd-b44230626889",
   "metadata": {},
   "outputs": [
    {
     "data": {
      "text/plain": [
       "Text(0.5, 1.0, 'Number of times that fewer inspections could be performed by comparing naive and arrangement(1000shots)')"
      ]
     },
     "execution_count": 66,
     "metadata": {},
     "output_type": "execute_result"
    },
    {
     "data": {
      "image/png": "[encoded data removed]",
      "text/plain": [
       "<Figure size 640x480 with 1 Axes>"
      ]
     },
     "metadata": {},
     "output_type": "display_data"
    }
   ],
   "source": [
    "fig, ax = plt.subplots()\n",
    "ax.bar(['naive', 'arrangement', 'euqal'], res_value)\n",
    "ax.set_title(f'Number of times that fewer inspections could be performed by comparing naive and arrangement({shot_num}shots)')"
   ]
  },
  {
   "cell_type": "code",
   "execution_count": 67,
   "id": "5afec4bd-1d86-4a6c-bd0c-a1794f0d0f0b",
   "metadata": {},
   "outputs": [
    {
     "data": {
      "text/plain": [
       "1.86"
      ]
     },
     "execution_count": 67,
     "metadata": {},
     "output_type": "execute_result"
    }
   ],
   "source": [
    "sum(positive_num)/shot_num"
   ]
  },
  {
   "cell_type": "code",
   "execution_count": null,
   "id": "7d3593e7-68cd-4a92-90c4-7cd9debb995d",
   "metadata": {},
   "outputs": [],
   "source": []
  }
 ],
 "metadata": {
  "kernelspec": {
   "display_name": "Python 3 (ipykernel)",
   "language": "python",
   "name": "python3"
  },
  "language_info": {
   "codemirror_mode": {
    "name": "ipython",
    "version": 3
   },
   "file_extension": ".py",
   "mimetype": "text/x-python",
   "name": "python",
   "nbconvert_exporter": "python",
   "pygments_lexer": "ipython3",
   "version": "3.9.7"
  }
 },
 "nbformat": 4,
 "nbformat_minor": 5
}
