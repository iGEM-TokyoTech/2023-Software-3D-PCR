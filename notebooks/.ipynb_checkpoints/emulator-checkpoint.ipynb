{
 "cells": [
  {
   "cell_type": "markdown",
   "id": "15d7c2a9-2b1b-47d4-a7c0-faac76c74fa3",
   "metadata": {},
   "source": [
    "# 必要なライブラリをimprot"
   ]
  },
  {
   "cell_type": "code",
   "execution_count": 56,
   "id": "bad20217-28e1-4490-882b-2816e1ee4e25",
   "metadata": {},
   "outputs": [],
   "source": [
    "import itertools\n",
    "\n",
    "import numpy as np\n",
    "import matplotlib.pyplot as plt\n",
    "import matplotlib.patches as patches\n",
    "\n",
    "\n",
    "# fix seed\n",
    "np.random.seed(0)"
   ]
  },
  {
   "cell_type": "markdown",
   "id": "7b1cacb9-6933-4b77-90b2-4e2d06c46e0e",
   "metadata": {},
   "source": [
    "# 3D-PCRの変数を定義"
   ]
  },
  {
   "cell_type": "code",
   "execution_count": 2,
   "id": "6e27bb26-d014-44cc-98d2-d7704e533cb4",
   "metadata": {},
   "outputs": [],
   "source": [
    "sample_size = (12, 8, 10)\n",
    "lambda_param = 1000\n",
    "shot_num = 10000"
   ]
  },
  {
   "cell_type": "markdown",
   "id": "81ca2ca1-6088-4fe6-a6b8-56f85fc901f7",
   "metadata": {},
   "source": [
    "# 評価に必要な定数の定義"
   ]
  },
  {
   "cell_type": "code",
   "execution_count": 3,
   "id": "36370c14-04f1-4f8e-b7fc-329fe65bfac3",
   "metadata": {},
   "outputs": [],
   "source": [
    "res = dict(naive=0, arranged=0, equal=0)\n",
    "log_naive = []\n",
    "log_arrangement = []\n",
    "positive_num = []"
   ]
  },
  {
   "cell_type": "markdown",
   "id": "94ec441b-a134-4dc0-b68e-180bb3f5172c",
   "metadata": {},
   "source": [
    "# Emulator"
   ]
  },
  {
   "cell_type": "code",
   "execution_count": 4,
   "id": "ca8d54de-fadf-42db-9630-a7e77b19aaa4",
   "metadata": {},
   "outputs": [],
   "source": [
    "def calculate_positive_indices(plates):\n",
    "    \"\"\"\n",
    "    platesの配列から再検査が必要なindexを返す\n",
    "\n",
    "    Parameters\n",
    "    ----------\n",
    "    plates : numpy.ndarray\n",
    "        各plateのpositive/negatieの情報を持つ配列\n",
    "\n",
    "    Returns\n",
    "    -------\n",
    "    retest_indices : list\n",
    "        再検査が必要なindexのリスト\n",
    "    \"\"\"\n",
    "    # indices = np.nonzero(plates)\n",
    "    # positives = [(indices[0][i], indices[1][i], indices[2][i]) for i in range(len(indices[0]))]\n",
    "\n",
    "    c_x = np.where(np.any(plates, axis = (1, 2)))[0].tolist()\n",
    "    c_y = np.where(np.any(plates, axis = (0, 2)))[0].tolist()\n",
    "    c_z = np.where(np.any(plates, axis = (0, 1)))[0].tolist()\n",
    "    re_test = list(itertools.product(c_x, c_y, c_z))\n",
    "    retest_indices = [j + i*sample_size[1] + sample_size[0]*sample_size[1]*k for i, j, k in re_test]\n",
    "\n",
    "    # return (c_x, c_y, c_z), retest_indices\n",
    "    return len(retest_indices)"
   ]
  },
  {
   "cell_type": "markdown",
   "id": "83bbc77f-8546-46fe-a39d-b1d58f5f76ce",
   "metadata": {},
   "source": [
    "## Case-1"
   ]
  },
  {
   "cell_type": "code",
   "execution_count": 5,
   "id": "d34d830f-f523-4333-82c8-d5d7f22d70db",
   "metadata": {},
   "outputs": [],
   "source": [
    "result_1_low = []\n",
    "result_1_med = []\n",
    "result_1_high = []\n",
    "cases = [1, 5, 12]\n",
    "\n",
    "for data_density in range(len(cases)):\n",
    "    for _ in range(shot_num):\n",
    "        positive_index = np.random.randint(0, 960, cases[data_density])\n",
    "        positive_index = np.unravel_index(positive_index, (12, 8, 10))\n",
    "        \n",
    "        plates = np.zeros(sample_size)\n",
    "        plates[positive_index] = 1\n",
    "        \n",
    "        if data_density == 0:\n",
    "            result_1_low.append(calculate_positive_indices(plates))\n",
    "        elif data_density == 1:\n",
    "            result_1_med.append(calculate_positive_indices(plates))\n",
    "        elif data_density == 2:\n",
    "            result_1_high.append(calculate_positive_indices(plates))"
   ]
  },
  {
   "cell_type": "code",
   "execution_count": 6,
   "id": "69170dba-c85e-46d9-8cee-88a38dca9e67",
   "metadata": {},
   "outputs": [
    {
     "data": {
      "text/plain": [
       "Text(0.5, 1.0, 'Simulation results of 10000 times')"
      ]
     },
     "execution_count": 6,
     "metadata": {},
     "output_type": "execute_result"
    },
    {
     "data": {
      "image/png": "[encoded data removed]",
      "text/plain": [
       "<Figure size 640x480 with 1 Axes>"
      ]
     },
     "metadata": {},
     "output_type": "display_data"
    }
   ],
   "source": [
    "fig = plt.figure()\n",
    "ax = fig.add_subplot(1, 1, 1)\n",
    "\n",
    "ax.bar([0, 1, 2], [sum(result_low), sum(result_med), sum(result_1_high)], label=['hoge', 'hoge', 'hoge'])\n",
    "ax.set_xlabel('Distribution of positives')\n",
    "\n",
    "ticks_location = [0, 1, 2]  # この位置に目盛りを設定\n",
    "labels = [f'low-({cases[0]})', f'medium-({cases[1]})', f'high-({cases[2]})']   # このラベルを表示\n",
    "\n",
    "ax.set_xticks(ticks_location)\n",
    "ax.set_xticklabels(labels)\n",
    "ax.set_title(f'Simulation results of {shot_num} times')"
   ]
  },
  {
   "cell_type": "markdown",
   "id": "1aee1534-06ab-4f5e-9528-380d46477efb",
   "metadata": {},
   "source": [
    "## case-2"
   ]
  },
  {
   "cell_type": "code",
   "execution_count": 60,
   "id": "a0f037ed-f823-4cdb-bda2-c188188f4e83",
   "metadata": {},
   "outputs": [],
   "source": [
    "# data_density = 2\n",
    "# positive_index = np.random.randint(0, 960, cases[data_density])\n",
    "# positive_index = np.unravel_index(positive_index, (12, 8, 10))\n",
    "\n",
    "# plates = np.zeros(sample_size)\n",
    "# plates[positive_index] = 1\n",
    "\n",
    "# pre_probability_layer = np.power(np.random.rand(*sample_size), p)\n",
    "# # pre_probability_layer = np.ones(sample_size)\n",
    "# random_matrix = np.random.random(sample_size)\n",
    "# mask = random_matrix < pre_probability_layer\n",
    "# pseudo_plates = np.where(mask, plates, 1 - plates)\n",
    "\n",
    "# pre_probability_list = pre_probability_layer.ravel().tolist()\n",
    "# psudo_plates_list = pseudo_plates.ravel().tolist()\n",
    "# plates_list = plates.ravel().tolist()\n",
    "\n",
    "# pseudo_plates_plates_list = [(psudo_plates_list[i], plates_list[i]) for i in range(len(psudo_plates_list))]\n",
    "# pseudo_plates_plates_list.sort(key=lambda x: x[0], reverse = True)\n",
    "\n",
    "# plates_sorted = [pseudo_plates_plates_list[i][1] for i in range(len(pseudo_plates_plates_list))]\n",
    "# plates_sorted = np.array(plates_sorted).reshape(10, 8, 12).transpose(2, 1, 0)\n",
    "# # plates_sorted"
   ]
  },
  {
   "cell_type": "code",
   "execution_count": 59,
   "id": "1c9fb225-8cf4-4f16-864d-372c695c71aa",
   "metadata": {},
   "outputs": [
    {
     "name": "stdout",
     "output_type": "stream",
     "text": [
      "10000 10000\n",
      "680447 50210\n",
      "3599918 156659\n"
     ]
    },
    {
     "data": {
      "image/png": "[encoded data removed]",
      "text/plain": [
       "<Figure size 1700x800 with 3 Axes>"
      ]
     },
     "metadata": {},
     "output_type": "display_data"
    }
   ],
   "source": [
    "result_2_pure = [] # densityごとに区切っている\n",
    "result_2_arranged = []\n",
    "cases = [1, 5, 12]\n",
    "p = 0.0005\n",
    "\n",
    "for data_density in range(len(cases)):\n",
    "    temp_pure = []\n",
    "    temp_arranged = []\n",
    "    for _ in range(shot_num):\n",
    "        # positive_index = np.random.randint(0, 960, size=cases[data_density])\n",
    "        positive_index = np.random.choice(960, cases[data_density], replace=False)\n",
    "        \n",
    "        # print('a', len(positive_index)) if len(positive_index) != cases[data_density] else None, ok\n",
    "        \n",
    "        positive_index = np.unravel_index(positive_index, (12, 8, 10))\n",
    "\n",
    "        # print(len(positive_index)) if len(positive_index) != 3 else None, ok\n",
    "        # print('a', len(positive_index)) if len(positive_index) != cases[data_density] else None, ok\n",
    "        \n",
    "        plates = np.zeros(sample_size)\n",
    "        plates[positive_index] = 1\n",
    "\n",
    "        # print(len(np.nonzero(plates)[0]), positive_index) if len(np.nonzero(plates)[0]) != cases[data_density] else None, ok\n",
    "              \n",
    "        temp_pure.append(calculate_positive_indices(plates))\n",
    "        # print(temp_pure[-1]) if cases[data_density] == 1 and temp_pure[-1] != 1 else None, ok\n",
    "        \n",
    "        pre_probability_layer = np.power(np.random.rand(*sample_size), p)\n",
    "        random_matrix = np.random.random(sample_size)\n",
    "        mask = random_matrix < pre_probability_layer\n",
    "        pseudo_plates = np.where(mask, plates, 1 - plates)\n",
    "\n",
    "        pre_probability_list = pre_probability_layer.ravel().tolist()\n",
    "        psudo_plates_list = pseudo_plates.ravel().tolist()\n",
    "        plates_list = plates.ravel().tolist()\n",
    "\n",
    "        # print(sum(plates_list)) if sum(plates_list) != cases[data_density] else None, ok\n",
    "        \n",
    "        pseudo_plates_plates_list = [(psudo_plates_list[i], plates_list[i]) for i in range(len(psudo_plates_list))]\n",
    "        pseudo_plates_plates_list.sort(key=lambda x: x[0], reverse = True)\n",
    "\n",
    "        plates_sorted = [pseudo_plates_plates_list[i][1] for i in range(len(pseudo_plates_plates_list))]\n",
    "        \n",
    "        # print(sum(plates_sorted)) if sum(plates_sorted) != cases[data_density] else None, ok\n",
    "        \n",
    "        plates_sorted = np.array(plates_sorted).reshape(10, 8, 12).transpose(2, 1, 0)\n",
    "        \n",
    "        print(len(np.nonzero(plates_sorted)[0])) if len(np.nonzero(plates_sorted)[0]) != cases[data_density] else None\n",
    "        # check upper bound and lower bound\n",
    "        print('a', len(np.nonzero(plates_sorted)[0])) if not(cases[data_density] <= calculate_positive_indices(plates_sorted) <= min(cases[data_density], 12) * min(cases[data_density], 8), min(cases[data_density], 10)) else None\n",
    "        \n",
    "        temp_arranged.append(calculate_positive_indices(plates_sorted))\n",
    "\n",
    "    result_2_pure.append(temp_pure)\n",
    "    result_2_arranged.append(temp_arranged)\n",
    "\n",
    "# visualize\n",
    "fig = plt.figure(figsize=(17, 8))\n",
    "\n",
    "for i in range(len(result_2_pure)):\n",
    "    ax = fig.add_subplot(1, 3, i+1)\n",
    "\n",
    "    ax.bar([0, 2], [sum(result_2_pure[i]), sum(result_2_arranged[i])])\n",
    "    print(sum(result_2_pure[i]), sum(result_2_arranged[i]))\n",
    "    ax.set_xlabel('Comparison of not-arranged and arranged')\n",
    "\n",
    "    ticks_location = [0, 2]  # この位置に目盛りを設定\n",
    "    labels = ['not-arranged', 'arranged']   # このラベルを表示\n",
    "\n",
    "    ax.set_xticks(ticks_location)\n",
    "    ax.set_xticklabels(labels)\n",
    "    ax.set_title(f'Simulation results of {shot_num} times (p={p})')\n",
    "\n",
    "    ax.ticklabel_format(style='plain',axis='y')"
   ]
  },
  {
   "cell_type": "markdown",
   "id": "6ed8bc8f-a268-465d-a65b-44f1b0a9b7e8",
   "metadata": {},
   "source": [
    "## case-3"
   ]
  },
  {
   "cell_type": "code",
   "execution_count": 69,
   "id": "f64e926c-319e-42bb-8f36-240562b2c0f4",
   "metadata": {},
   "outputs": [],
   "source": [
    "p_list = [0.0005, 0.005, 0.05]\n",
    "\n",
    "result_3_low_pure = []\n",
    "result_3_low_arranged = []\n",
    "result_3_med_pure = []\n",
    "result_3_med_arranged = []\n",
    "result_3_high_pure = []\n",
    "result_3_high_arranged = []\n",
    "\n",
    "\n",
    "data_density = 0\n",
    "cases = [1, 5, 12]\n",
    "\n",
    "for i in range(len(p_list)):\n",
    "    for _ in range(shot_num):\n",
    "        positive_index = np.random.choice(960, cases[data_density], replace=False)\n",
    "        \n",
    "        # print('a', len(positive_index)) if len(positive_index) != cases[data_density] else None, ok\n",
    "        \n",
    "        positive_index = np.unravel_index(positive_index, (12, 8, 10))\n",
    "\n",
    "        # print(len(positive_index)) if len(positive_index) != 3 else None, ok\n",
    "        # print('a', len(positive_index)) if len(positive_index) != cases[data_density] else None, ok\n",
    "        \n",
    "        plates = np.zeros(sample_size)\n",
    "        plates[positive_index] = 1\n",
    "\n",
    "        # print(len(np.nonzero(plates)[0]), positive_index) if len(np.nonzero(plates)[0]) != cases[data_density] else None, ok\n",
    "\n",
    "        res_pure = calculate_positive_indices(plates)\n",
    "        # print(temp_pure[-1]) if cases[data_density] == 1 and temp_pure[-1] != 1 else None, ok\n",
    "        \n",
    "        pre_probability_layer = np.power(np.random.rand(*sample_size), p_list[i])\n",
    "        random_matrix = np.random.random(sample_size)\n",
    "        mask = random_matrix < pre_probability_layer\n",
    "        pseudo_plates = np.where(mask, plates, 1 - plates)\n",
    "\n",
    "        pre_probability_list = pre_probability_layer.ravel().tolist()\n",
    "        psudo_plates_list = pseudo_plates.ravel().tolist()\n",
    "        plates_list = plates.ravel().tolist()\n",
    "\n",
    "        # print(sum(plates_list)) if sum(plates_list) != cases[data_density] else None, ok\n",
    "        \n",
    "        pseudo_plates_plates_list = [(psudo_plates_list[i], plates_list[i]) for i in range(len(psudo_plates_list))]\n",
    "        pseudo_plates_plates_list.sort(key=lambda x: x[0], reverse = True)\n",
    "\n",
    "        plates_sorted = [pseudo_plates_plates_list[i][1] for i in range(len(pseudo_plates_plates_list))]\n",
    "        \n",
    "        # print(sum(plates_sorted)) if sum(plates_sorted) != cases[data_density] else None, ok\n",
    "        \n",
    "        plates_sorted = np.array(plates_sorted).reshape(10, 8, 12).transpose(2, 1, 0)\n",
    "        \n",
    "        print(len(np.nonzero(plates_sorted)[0])) if len(np.nonzero(plates_sorted)[0]) != cases[data_density] else None\n",
    "        # check upper bound and lower bound\n",
    "        print('a', len(np.nonzero(plates_sorted)[0])) if not(cases[data_density] <= calculate_positive_indices(plates_sorted) <= min(cases[data_density], 12) * min(cases[data_density], 8), min(cases[data_density], 10)) else None\n",
    "        \n",
    "        res_arranged = calculate_positive_indices(plates_sorted)\n",
    "\n",
    "        if i == 0:\n",
    "            result_3_low_pure.append(res_pure)\n",
    "            result_3_low_arranged.append(res_arranged)\n",
    "        elif i == 1:\n",
    "            result_3_med_pure.append(res_pure)\n",
    "            result_3_med_arranged.append(res_arranged)\n",
    "        elif i == 2:\n",
    "            result_3_high_pure.append(res_pure)\n",
    "            result_3_high_arranged.append(res_arranged)"
   ]
  },
  {
   "cell_type": "code",
   "execution_count": 68,
   "id": "de9971c9-6e94-43ed-8743-a0bc81b11a1b",
   "metadata": {},
   "outputs": [
    {
     "data": {
      "text/plain": [
       "(10000, 10000)"
      ]
     },
     "execution_count": 68,
     "metadata": {},
     "output_type": "execute_result"
    }
   ],
   "source": [
    "result_3_low_arranged"
   ]
  },
  {
   "cell_type": "code",
   "execution_count": null,
   "id": "858fb81b-36e1-4458-b692-a866cd29bde7",
   "metadata": {},
   "outputs": [],
   "source": [
    "fig = plt.figure(figsize=(17, 8))\n",
    "\n",
    "ax = fig.add_subplot(1, 1, 1)\n",
    "ax.bar([0, 2, 4], [sum(result_pure[i]), sum(result_arranged[i])])\n"
   ]
  },
  {
   "cell_type": "code",
   "execution_count": null,
   "id": "744d89a2-cd2b-42f9-9ef0-2799036b0802",
   "metadata": {},
   "outputs": [],
   "source": [
    "# visualize\n",
    "fig = plt.figure(figsize=(17, 8))\n",
    "\n",
    "for i in range(len(result_pure)):\n",
    "    ax = fig.add_subplot(1, 3, i+1)\n",
    "\n",
    "    ax.bar([0, 2], [sum(result_pure[i]), sum(result_arranged[i])])\n",
    "    print(sum(result_pure[i]), sum(result_arranged[i]))\n",
    "    ax.set_xlabel('Comparison of not-arranged and arranged')\n",
    "\n",
    "    ticks_location = [0, 2]  # この位置に目盛りを設定\n",
    "    labels = ['not-arranged', 'arranged']   # このラベルを表示\n",
    "\n",
    "    ax.set_xticks(ticks_location)\n",
    "    ax.set_xticklabels(labels)\n",
    "    ax.set_title(f'Simulation results of {shot_num} times (p={p})')\n",
    "\n",
    "    ax.ticklabel_format(style='plain',axis='y')"
   ]
  }
 ],
 "metadata": {
  "kernelspec": {
   "display_name": "Python 3 (ipykernel)",
   "language": "python",
   "name": "python3"
  },
  "language_info": {
   "codemirror_mode": {
    "name": "ipython",
    "version": 3
   },
   "file_extension": ".py",
   "mimetype": "text/x-python",
   "name": "python",
   "nbconvert_exporter": "python",
   "pygments_lexer": "ipython3",
   "version": "3.9.7"
  }
 },
 "nbformat": 4,
 "nbformat_minor": 5
}
